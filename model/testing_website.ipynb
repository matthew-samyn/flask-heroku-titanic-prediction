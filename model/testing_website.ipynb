{
 "cells": [
  {
   "cell_type": "code",
   "execution_count": 1,
   "outputs": [
    {
     "name": "stdout",
     "output_type": "stream",
     "text": [
      "<Response [200]>\n",
      "{'results': {'results': 0}}\n"
     ]
    }
   ],
   "source": [
    "# Testing if website is operational.\n",
    "from flask import json\n",
    "import requests\n",
    "\n",
    "url = \"https://trying-models.herokuapp.com/\"\n",
    "# sample data\n",
    "data = {'Pclass': 3\n",
    "      , 'Age': 50\n",
    "      , 'Sex':0}\n",
    "data = json.dumps(data)\n",
    "send_request = requests.post(url, data)\n",
    "print(send_request)\n",
    "\n",
    "# Prediction checken\n",
    "print(send_request.json())\n"
   ],
   "metadata": {
    "collapsed": false,
    "pycharm": {
     "name": "#%%\n"
    }
   }
  }
 ],
 "metadata": {
  "kernelspec": {
   "name": "pycharm-7230049b",
   "language": "python",
   "display_name": "PyCharm (flask-heroku-titanic-prediction)"
  },
  "language_info": {
   "codemirror_mode": {
    "name": "ipython",
    "version": 2
   },
   "file_extension": ".py",
   "mimetype": "text/x-python",
   "name": "python",
   "nbconvert_exporter": "python",
   "pygments_lexer": "ipython2",
   "version": "2.7.6"
  }
 },
 "nbformat": 4,
 "nbformat_minor": 0
}